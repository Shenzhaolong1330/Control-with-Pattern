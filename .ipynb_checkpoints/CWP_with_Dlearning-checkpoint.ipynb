{
 "cells": [
  {
   "cell_type": "code",
   "execution_count": 1,
   "id": "47d3f489",
   "metadata": {},
   "outputs": [],
   "source": [
    "#  D-Learning\n",
    "#  take linear system as an example\n",
    "import cvxpy as cp\n",
    "import numpy as np\n",
    "import matplotlib\n",
    "import matplotlib.pyplot as plt\n",
    "import torch"
   ]
  },
  {
   "cell_type": "code",
   "execution_count": 2,
   "id": "ab100833",
   "metadata": {},
   "outputs": [],
   "source": [
    "class linear_system:\n",
    "    \n",
    "    N_DIMS = 2\n",
    "    N_CONTROLS = 2\n",
    "    A = torch.zeros([N_DIMS, N_DIMS])\n",
    "    B = torch.zeros([N_DIMS, N_CONTROLS])\n",
    "    F = torch.zeros([N_DIMS, 1])\n",
    "    \n",
    "    def __init__(self, system_params: tuple):\n",
    "        #     system_params: tuple(system matrix, input matrix, noise matrix)\n",
    "        self.A = system_params[0]\n",
    "        self.B = system_params[1]\n",
    "        self.N_DIMS = self.A.shape[0]\n",
    "        self.N_CONTROLS = self.B.shape[1]\n",
    "        if len(system_params) ==3:\n",
    "            self.F = system_params[2]\n",
    "        else:\n",
    "            self.F = torch.zeros([N_DIMS, 1])\n",
    "    \n",
    "    def x_dot(self, x: torch.Tensor, u:torch.Tensor = torch.zeros(N_CONTROLS, 1), w:torch.Tensor = torch.zeros(1)):\n",
    "        x_dot = self.A@x+self.B@u+self.F@w\n",
    "        \n",
    "        return x_dot     \n",
    "        "
   ]
  },
  {
   "cell_type": "code",
   "execution_count": 3,
   "id": "01f296c6-84ad-4ad1-ac55-8dfb5adc70e8",
   "metadata": {},
   "outputs": [
    {
     "data": {
      "text/plain": [
       "tensor([0.])"
      ]
     },
     "execution_count": 3,
     "metadata": {},
     "output_type": "execute_result"
    }
   ],
   "source": [
    "torch.zeros(1)"
   ]
  },
  {
   "cell_type": "code",
   "execution_count": 4,
   "id": "6deb5b9a",
   "metadata": {},
   "outputs": [
    {
     "name": "stdout",
     "output_type": "stream",
     "text": [
      "3\n",
      "tensor([[0.],\n",
      "        [0.]])\n",
      "tensor([[0.],\n",
      "        [0.]])\n"
     ]
    }
   ],
   "source": [
    "a = torch.tensor([[1, 2],[3, 4]], dtype=torch.float32)\n",
    "b = torch.tensor([[1, 0],[0, 1]], dtype=torch.float32)\n",
    "f = torch.tensor([[0], [0]], dtype=torch.float32)\n",
    "system_params=(a,b,f)\n",
    "print(len(system_params))\n",
    "F = torch.zeros([2, 1])\n",
    "print(F)\n",
    "print(a@f)"
   ]
  },
  {
   "cell_type": "code",
   "execution_count": 5,
   "id": "efdcaf01",
   "metadata": {},
   "outputs": [
    {
     "name": "stdout",
     "output_type": "stream",
     "text": [
      "tensor([[ 6.,  6.],\n",
      "        [13., 13.]])\n"
     ]
    }
   ],
   "source": [
    "sys1 = linear_system(system_params)\n",
    "# print(sys1.F)\n",
    "x = torch.Tensor([[1],[2]])\n",
    "u = torch.Tensor([[0],[0]])\n",
    "w = torch.zeros(1)\n",
    "\n",
    "print(sys1.x_dot(torch.Tensor([[1],[2]]),torch.Tensor([[1],[2]])))"
   ]
  }
 ],
 "metadata": {
  "kernelspec": {
   "display_name": "Python 3 (ipykernel)",
   "language": "python",
   "name": "python3"
  },
  "language_info": {
   "codemirror_mode": {
    "name": "ipython",
    "version": 3
   },
   "file_extension": ".py",
   "mimetype": "text/x-python",
   "name": "python",
   "nbconvert_exporter": "python",
   "pygments_lexer": "ipython3",
   "version": "3.11.8"
  }
 },
 "nbformat": 4,
 "nbformat_minor": 5
}
